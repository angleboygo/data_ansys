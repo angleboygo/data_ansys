{
 "cells": [
  {
   "cell_type": "markdown",
   "metadata": {},
   "source": [
    "- 导包"
   ]
  },
  {
   "cell_type": "code",
   "execution_count": 24,
   "metadata": {},
   "outputs": [],
   "source": [
    "import numpy as np\n",
    "import pandas as pd \n",
    "from pandas import DataFrame,Series\n",
    "\n",
    "import matplotlib.pyplot as plt\n",
    "\n",
    "#让图显示中文\n",
    "from pylab import mpl\n",
    "mpl.rcParams['font.sans-serif'] = ['FangSong'] # 指定默认字体\n",
    "mpl.rcParams['axes.unicode_minus'] = False # 解决保存图像是负号'-'显示为方块的问题"
   ]
  },
  {
   "cell_type": "markdown",
   "metadata": {},
   "source": [
    "- 导入数据"
   ]
  },
  {
   "cell_type": "code",
   "execution_count": 2,
   "metadata": {},
   "outputs": [],
   "source": [
    "ferrara1 = pd.read_csv('./ferrara_150715.csv')\n",
    "ferrara2 = pd.read_csv('./ferrara_250715.csv')\n",
    "ferrara3 = pd.read_csv('./ferrara_270615.csv')\n",
    "ferrara=pd.concat([ferrara1,ferrara1,ferrara1],ignore_index=True)\n",
    "\n",
    "torino1 = pd.read_csv('./torino_150715.csv')\n",
    "torino2 = pd.read_csv('./torino_250715.csv')\n",
    "torino3 = pd.read_csv('./torino_270615.csv')\n",
    "torino = pd.concat([torino1,torino2,torino3],ignore_index=True) \n",
    "\n",
    "mantova1 = pd.read_csv('./mantova_150715.csv')\n",
    "mantova2 = pd.read_csv('./mantova_250715.csv')\n",
    "mantova3 = pd.read_csv('./mantova_270615.csv')\n",
    "mantova = pd.concat([mantova1,mantova2,mantova3],ignore_index=True) \n",
    "\n",
    "milano1 = pd.read_csv('./milano_150715.csv')\n",
    "milano2 = pd.read_csv('./milano_250715.csv')\n",
    "milano3 = pd.read_csv('./milano_270615.csv')\n",
    "milano = pd.concat([milano1,milano2,milano3],ignore_index=True) \n",
    "\n",
    "ravenna1 = pd.read_csv('./ravenna_150715.csv')\n",
    "ravenna2 = pd.read_csv('./ravenna_250715.csv')\n",
    "ravenna3 = pd.read_csv('./ravenna_270615.csv')\n",
    "ravenna = pd.concat([ravenna1,ravenna2,ravenna3],ignore_index=True)\n",
    "\n",
    "asti1 = pd.read_csv('./asti_150715.csv')\n",
    "asti2 = pd.read_csv('./asti_250715.csv')\n",
    "asti3 = pd.read_csv('./asti_270615.csv')\n",
    "asti = pd.concat([asti1,asti2,asti3],ignore_index=True)\n",
    "\n",
    "bologna1 = pd.read_csv('./bologna_150715.csv')\n",
    "bologna2 = pd.read_csv('./bologna_250715.csv')\n",
    "bologna3 = pd.read_csv('./bologna_270615.csv')\n",
    "bologna = pd.concat([bologna1,bologna2,bologna3],ignore_index=True)\n",
    "\n",
    "piacenza1 = pd.read_csv('./piacenza_150715.csv')\n",
    "piacenza2 = pd.read_csv('./piacenza_250715.csv')\n",
    "piacenza3 = pd.read_csv('./piacenza_270615.csv')\n",
    "piacenza = pd.concat([piacenza1,piacenza2,piacenza3],ignore_index=True)\n",
    "\n",
    "cesena1 = pd.read_csv('./cesena_150715.csv')\n",
    "cesena2 = pd.read_csv('./cesena_250715.csv')\n",
    "cesena3 = pd.read_csv('./cesena_270615.csv')\n",
    "cesena = pd.concat([cesena1,cesena2,cesena3],ignore_index=True)\n",
    "\n",
    "faenza1 = pd.read_csv('./faenza_150715.csv')\n",
    "faenza2 = pd.read_csv('./faenza_250715.csv')\n",
    "faenza3 = pd.read_csv('./faenza_270615.csv')\n",
    "faenza = pd.concat([faenza1,faenza2,faenza3],ignore_index=True)"
   ]
  },
  {
   "cell_type": "markdown",
   "metadata": {},
   "source": [
    "- 去除没用的列"
   ]
  },
  {
   "cell_type": "code",
   "execution_count": 3,
   "metadata": {},
   "outputs": [
    {
     "data": {
      "text/html": [
       "<div>\n",
       "<style scoped>\n",
       "    .dataframe tbody tr th:only-of-type {\n",
       "        vertical-align: middle;\n",
       "    }\n",
       "\n",
       "    .dataframe tbody tr th {\n",
       "        vertical-align: top;\n",
       "    }\n",
       "\n",
       "    .dataframe thead th {\n",
       "        text-align: right;\n",
       "    }\n",
       "</style>\n",
       "<table border=\"1\" class=\"dataframe\">\n",
       "  <thead>\n",
       "    <tr style=\"text-align: right;\">\n",
       "      <th></th>\n",
       "      <th>Unnamed: 0</th>\n",
       "      <th>temp</th>\n",
       "      <th>humidity</th>\n",
       "      <th>pressure</th>\n",
       "      <th>description</th>\n",
       "      <th>dt</th>\n",
       "      <th>wind_speed</th>\n",
       "      <th>wind_deg</th>\n",
       "      <th>city</th>\n",
       "      <th>day</th>\n",
       "      <th>dist</th>\n",
       "    </tr>\n",
       "  </thead>\n",
       "  <tbody>\n",
       "    <tr>\n",
       "      <th>0</th>\n",
       "      <td>0</td>\n",
       "      <td>29.40</td>\n",
       "      <td>83</td>\n",
       "      <td>1015</td>\n",
       "      <td>moderate rain</td>\n",
       "      <td>1436863177</td>\n",
       "      <td>3.62</td>\n",
       "      <td>94.001</td>\n",
       "      <td>Faenza</td>\n",
       "      <td>2015-07-14 10:39:37</td>\n",
       "      <td>37</td>\n",
       "    </tr>\n",
       "    <tr>\n",
       "      <th>1</th>\n",
       "      <td>1</td>\n",
       "      <td>30.12</td>\n",
       "      <td>78</td>\n",
       "      <td>1015</td>\n",
       "      <td>moderate rain</td>\n",
       "      <td>1436866759</td>\n",
       "      <td>3.10</td>\n",
       "      <td>80.000</td>\n",
       "      <td>Faenza</td>\n",
       "      <td>2015-07-14 11:39:19</td>\n",
       "      <td>37</td>\n",
       "    </tr>\n",
       "    <tr>\n",
       "      <th>2</th>\n",
       "      <td>2</td>\n",
       "      <td>30.10</td>\n",
       "      <td>78</td>\n",
       "      <td>1015</td>\n",
       "      <td>moderate rain</td>\n",
       "      <td>1436870510</td>\n",
       "      <td>3.60</td>\n",
       "      <td>70.000</td>\n",
       "      <td>Faenza</td>\n",
       "      <td>2015-07-14 12:41:50</td>\n",
       "      <td>37</td>\n",
       "    </tr>\n",
       "    <tr>\n",
       "      <th>3</th>\n",
       "      <td>3</td>\n",
       "      <td>30.75</td>\n",
       "      <td>74</td>\n",
       "      <td>1015</td>\n",
       "      <td>moderate rain</td>\n",
       "      <td>1436874099</td>\n",
       "      <td>4.60</td>\n",
       "      <td>90.000</td>\n",
       "      <td>Faenza</td>\n",
       "      <td>2015-07-14 13:41:39</td>\n",
       "      <td>37</td>\n",
       "    </tr>\n",
       "    <tr>\n",
       "      <th>4</th>\n",
       "      <td>4</td>\n",
       "      <td>30.71</td>\n",
       "      <td>66</td>\n",
       "      <td>1015</td>\n",
       "      <td>moderate rain</td>\n",
       "      <td>1436877646</td>\n",
       "      <td>5.10</td>\n",
       "      <td>100.000</td>\n",
       "      <td>Faenza</td>\n",
       "      <td>2015-07-14 14:40:46</td>\n",
       "      <td>37</td>\n",
       "    </tr>\n",
       "  </tbody>\n",
       "</table>\n",
       "</div>"
      ],
      "text/plain": [
       "   Unnamed: 0   temp  humidity  pressure    description          dt  \\\n",
       "0           0  29.40        83      1015  moderate rain  1436863177   \n",
       "1           1  30.12        78      1015  moderate rain  1436866759   \n",
       "2           2  30.10        78      1015  moderate rain  1436870510   \n",
       "3           3  30.75        74      1015  moderate rain  1436874099   \n",
       "4           4  30.71        66      1015  moderate rain  1436877646   \n",
       "\n",
       "   wind_speed  wind_deg    city                  day  dist  \n",
       "0        3.62    94.001  Faenza  2015-07-14 10:39:37    37  \n",
       "1        3.10    80.000  Faenza  2015-07-14 11:39:19    37  \n",
       "2        3.60    70.000  Faenza  2015-07-14 12:41:50    37  \n",
       "3        4.60    90.000  Faenza  2015-07-14 13:41:39    37  \n",
       "4        5.10   100.000  Faenza  2015-07-14 14:40:46    37  "
      ]
     },
     "execution_count": 3,
     "metadata": {},
     "output_type": "execute_result"
    }
   ],
   "source": [
    "faenza.head()"
   ]
  },
  {
   "cell_type": "code",
   "execution_count": 4,
   "metadata": {},
   "outputs": [],
   "source": [
    "city_list = [ferrara,torino,mantova,milano,ravenna,asti,bologna,piacenza,cesena,faenza]\n",
    "for city in city_list:\n",
    "    city.drop(labels=['Unnamed: 0'],axis=1,inplace=True)"
   ]
  },
  {
   "cell_type": "code",
   "execution_count": 5,
   "metadata": {},
   "outputs": [
    {
     "data": {
      "text/html": [
       "<div>\n",
       "<style scoped>\n",
       "    .dataframe tbody tr th:only-of-type {\n",
       "        vertical-align: middle;\n",
       "    }\n",
       "\n",
       "    .dataframe tbody tr th {\n",
       "        vertical-align: top;\n",
       "    }\n",
       "\n",
       "    .dataframe thead th {\n",
       "        text-align: right;\n",
       "    }\n",
       "</style>\n",
       "<table border=\"1\" class=\"dataframe\">\n",
       "  <thead>\n",
       "    <tr style=\"text-align: right;\">\n",
       "      <th></th>\n",
       "      <th>temp</th>\n",
       "      <th>humidity</th>\n",
       "      <th>pressure</th>\n",
       "      <th>description</th>\n",
       "      <th>dt</th>\n",
       "      <th>wind_speed</th>\n",
       "      <th>wind_deg</th>\n",
       "      <th>city</th>\n",
       "      <th>day</th>\n",
       "      <th>dist</th>\n",
       "    </tr>\n",
       "  </thead>\n",
       "  <tbody>\n",
       "    <tr>\n",
       "      <th>0</th>\n",
       "      <td>29.40</td>\n",
       "      <td>83</td>\n",
       "      <td>1015</td>\n",
       "      <td>moderate rain</td>\n",
       "      <td>1436863177</td>\n",
       "      <td>3.62</td>\n",
       "      <td>94.001</td>\n",
       "      <td>Faenza</td>\n",
       "      <td>2015-07-14 10:39:37</td>\n",
       "      <td>37</td>\n",
       "    </tr>\n",
       "    <tr>\n",
       "      <th>1</th>\n",
       "      <td>30.12</td>\n",
       "      <td>78</td>\n",
       "      <td>1015</td>\n",
       "      <td>moderate rain</td>\n",
       "      <td>1436866759</td>\n",
       "      <td>3.10</td>\n",
       "      <td>80.000</td>\n",
       "      <td>Faenza</td>\n",
       "      <td>2015-07-14 11:39:19</td>\n",
       "      <td>37</td>\n",
       "    </tr>\n",
       "    <tr>\n",
       "      <th>2</th>\n",
       "      <td>30.10</td>\n",
       "      <td>78</td>\n",
       "      <td>1015</td>\n",
       "      <td>moderate rain</td>\n",
       "      <td>1436870510</td>\n",
       "      <td>3.60</td>\n",
       "      <td>70.000</td>\n",
       "      <td>Faenza</td>\n",
       "      <td>2015-07-14 12:41:50</td>\n",
       "      <td>37</td>\n",
       "    </tr>\n",
       "    <tr>\n",
       "      <th>3</th>\n",
       "      <td>30.75</td>\n",
       "      <td>74</td>\n",
       "      <td>1015</td>\n",
       "      <td>moderate rain</td>\n",
       "      <td>1436874099</td>\n",
       "      <td>4.60</td>\n",
       "      <td>90.000</td>\n",
       "      <td>Faenza</td>\n",
       "      <td>2015-07-14 13:41:39</td>\n",
       "      <td>37</td>\n",
       "    </tr>\n",
       "    <tr>\n",
       "      <th>4</th>\n",
       "      <td>30.71</td>\n",
       "      <td>66</td>\n",
       "      <td>1015</td>\n",
       "      <td>moderate rain</td>\n",
       "      <td>1436877646</td>\n",
       "      <td>5.10</td>\n",
       "      <td>100.000</td>\n",
       "      <td>Faenza</td>\n",
       "      <td>2015-07-14 14:40:46</td>\n",
       "      <td>37</td>\n",
       "    </tr>\n",
       "  </tbody>\n",
       "</table>\n",
       "</div>"
      ],
      "text/plain": [
       "    temp  humidity  pressure    description          dt  wind_speed  wind_deg  \\\n",
       "0  29.40        83      1015  moderate rain  1436863177        3.62    94.001   \n",
       "1  30.12        78      1015  moderate rain  1436866759        3.10    80.000   \n",
       "2  30.10        78      1015  moderate rain  1436870510        3.60    70.000   \n",
       "3  30.75        74      1015  moderate rain  1436874099        4.60    90.000   \n",
       "4  30.71        66      1015  moderate rain  1436877646        5.10   100.000   \n",
       "\n",
       "     city                  day  dist  \n",
       "0  Faenza  2015-07-14 10:39:37    37  \n",
       "1  Faenza  2015-07-14 11:39:19    37  \n",
       "2  Faenza  2015-07-14 12:41:50    37  \n",
       "3  Faenza  2015-07-14 13:41:39    37  \n",
       "4  Faenza  2015-07-14 14:40:46    37  "
      ]
     },
     "execution_count": 5,
     "metadata": {},
     "output_type": "execute_result"
    }
   ],
   "source": [
    "faenza.head()"
   ]
  },
  {
   "cell_type": "markdown",
   "metadata": {},
   "source": [
    "- 显示最高温度于离海远近的关系（观察多个城市）"
   ]
  },
  {
   "cell_type": "code",
   "execution_count": 7,
   "metadata": {
    "collapsed": true
   },
   "outputs": [
    {
     "data": {
      "text/plain": [
       "0     29.40\n",
       "1     30.12\n",
       "2     30.10\n",
       "3     30.75\n",
       "4     30.71\n",
       "5     31.29\n",
       "6     31.29\n",
       "7     30.40\n",
       "8     30.67\n",
       "9     29.68\n",
       "10    28.07\n",
       "11    27.10\n",
       "12    26.19\n",
       "13    25.51\n",
       "14    24.90\n",
       "15    24.46\n",
       "16    24.19\n",
       "17    23.99\n",
       "18    23.00\n",
       "19    23.00\n",
       "20    22.51\n",
       "21    23.01\n",
       "22    25.00\n",
       "23    27.51\n",
       "24    32.08\n",
       "25    32.40\n",
       "26    32.74\n",
       "27    32.70\n",
       "28    32.33\n",
       "29    32.40\n",
       "      ...  \n",
       "37    27.22\n",
       "38    26.54\n",
       "39    25.93\n",
       "40    25.53\n",
       "41    25.01\n",
       "42    24.03\n",
       "43    24.77\n",
       "44    25.59\n",
       "45    27.23\n",
       "46    30.20\n",
       "47    31.12\n",
       "48    25.44\n",
       "49    26.38\n",
       "50    27.70\n",
       "51    29.04\n",
       "52    29.11\n",
       "53    29.33\n",
       "54    29.20\n",
       "55    28.88\n",
       "56    27.53\n",
       "57    26.12\n",
       "58    22.32\n",
       "59    21.38\n",
       "60    21.16\n",
       "61    20.00\n",
       "62    19.48\n",
       "63    19.16\n",
       "64    18.62\n",
       "65    19.34\n",
       "66    21.05\n",
       "Name: temp, Length: 67, dtype: float64"
      ]
     },
     "execution_count": 7,
     "metadata": {},
     "output_type": "execute_result"
    }
   ],
   "source": [
    "faenza['temp']"
   ]
  },
  {
   "cell_type": "code",
   "execution_count": 16,
   "metadata": {},
   "outputs": [],
   "source": [
    "city_temp=[]\n",
    "city_dist=[]\n",
    "for city in city_list:\n",
    "    city_temp.append(city['temp'].max())\n",
    "    city_dist.append(city['dist'][0])"
   ]
  },
  {
   "cell_type": "markdown",
   "metadata": {},
   "source": [
    "- 绘制图像"
   ]
  },
  {
   "cell_type": "code",
   "execution_count": 25,
   "metadata": {},
   "outputs": [
    {
     "data": {
      "text/plain": [
       "Text(0.5,1,'距离-最高温度之间的关系')"
      ]
     },
     "execution_count": 25,
     "metadata": {},
     "output_type": "execute_result"
    },
    {
     "data": {
      "image/png": "[encoded data removed]",
      "text/plain": [
       "<Figure size 432x288 with 1 Axes>"
      ]
     },
     "metadata": {
      "needs_background": "light"
     },
     "output_type": "display_data"
    }
   ],
   "source": [
    "plt.scatter(city_dist,city_temp)\n",
    "plt.xlabel('距离')\n",
    "plt.ylabel('最高温度')\n",
    "plt.title('距离-最高温度之间的关系')"
   ]
  },
  {
   "cell_type": "markdown",
   "metadata": {},
   "source": [
    "-观察发现，离海近的可以形成一条直线，离海远的也能形成一条直线。\n",
    "\n",
    "- 分别以100公里和50公里为分界点，划分为离海近和离海远的两组数据(近海：小于100  远海：大于50)"
   ]
  },
  {
   "cell_type": "code",
   "execution_count": 27,
   "metadata": {},
   "outputs": [],
   "source": [
    "np_city_dist=np.array(city_dist)\n",
    "np_city_temp=np.array(city_temp)"
   ]
  },
  {
   "cell_type": "markdown",
   "metadata": {},
   "source": [
    "- (1)近海使用线性回归处理"
   ]
  },
  {
   "cell_type": "code",
   "execution_count": 37,
   "metadata": {},
   "outputs": [
    {
     "data": {
      "text/plain": [
       "<matplotlib.collections.PathCollection at 0x1d0e17fcda0>"
      ]
     },
     "execution_count": 37,
     "metadata": {},
     "output_type": "execute_result"
    },
    {
     "data": {
      "image/png": "[encoded data removed]",
      "text/plain": [
       "<Figure size 432x288 with 1 Axes>"
      ]
     },
     "metadata": {
      "needs_background": "light"
     },
     "output_type": "display_data"
    }
   ],
   "source": [
    "#获取近海数据\n",
    "near_condition=np_city_dist<100\n",
    "near_dist=np_city_dist[near_condition]\n",
    "near_temp=np_city_temp[near_condition]\n",
    "plt.scatter(near_dist,near_temp)"
   ]
  },
  {
   "cell_type": "markdown",
   "metadata": {},
   "source": [
    "# 机器学习\n",
    "- 样本数据:(二维的numpy和DataFrame)\n",
    "    - 特征数据:自变量\n",
    "    - 目标数据:因变量\n",
    "- 算法模型:对象.该对象中已经封装集成好了一个方程(还没有求出解的方程)\n",
    "- 算法模型对象的分类:\n",
    "    - 有监督学习:模型对象所需的样本数据中必须存在目标数据和特征数据\n",
    "    - 无监督学习:模型对象所需的样本数据中只需要特征数据即可\n",
    "    - 半监督学习:\n",
    "- sk-learn"
   ]
  },
  {
   "cell_type": "code",
   "execution_count": 39,
   "metadata": {},
   "outputs": [],
   "source": [
    "#导入机器学习库\n",
    "import sklearn \n",
    "from sklearn.linear_model import LinearRegression"
   ]
  },
  {
   "cell_type": "code",
   "execution_count": 42,
   "metadata": {},
   "outputs": [],
   "source": [
    "linner=LinearRegression() #创建线性回归模型"
   ]
  },
  {
   "cell_type": "code",
   "execution_count": 43,
   "metadata": {},
   "outputs": [],
   "source": [
    "feature=near_dist.reshape(-1,1)\n",
    "target=near_temp"
   ]
  },
  {
   "cell_type": "code",
   "execution_count": 44,
   "metadata": {},
   "outputs": [
    {
     "data": {
      "text/plain": [
       "LinearRegression(copy_X=True, fit_intercept=True, n_jobs=1, normalize=False)"
      ]
     },
     "execution_count": 44,
     "metadata": {},
     "output_type": "execute_result"
    }
   ],
   "source": [
    "#模型训练\n",
    "linner.fit(feature,target)"
   ]
  },
  {
   "cell_type": "code",
   "execution_count": 47,
   "metadata": {},
   "outputs": [
    {
     "data": {
      "text/plain": [
       "0.5549063263099332"
      ]
     },
     "execution_count": 47,
     "metadata": {},
     "output_type": "execute_result"
    }
   ],
   "source": [
    "#评分\n",
    "linner.score(feature,target)"
   ]
  },
  {
   "cell_type": "code",
   "execution_count": 48,
   "metadata": {},
   "outputs": [
    {
     "data": {
      "text/plain": [
       "array([32.6306582])"
      ]
     },
     "execution_count": 48,
     "metadata": {},
     "output_type": "execute_result"
    }
   ],
   "source": [
    "#预测\n",
    "linner.predict(10)"
   ]
  },
  {
   "cell_type": "code",
   "execution_count": 53,
   "metadata": {},
   "outputs": [
    {
     "data": {
      "text/plain": [
       "<matplotlib.collections.PathCollection at 0x1d0e2832ac8>"
      ]
     },
     "execution_count": 53,
     "metadata": {},
     "output_type": "execute_result"
    },
    {
     "data": {
      "image/png": "[encoded data removed]",
      "text/plain": [
       "<Figure size 432x288 with 1 Axes>"
      ]
     },
     "metadata": {
      "needs_background": "light"
     },
     "output_type": "display_data"
    }
   ],
   "source": [
    "#绘制图像 ()\n",
    "x1=np.linspace(0,75,num=100).reshape(-1,1)\n",
    "y1=linner.predict(x1)\n",
    "plt.scatter(near_dist,near_temp)\n",
    "plt.scatter(x1,y1)"
   ]
  },
  {
   "cell_type": "markdown",
   "metadata": {},
   "source": [
    "- 远海线性回归"
   ]
  },
  {
   "cell_type": "code",
   "execution_count": 58,
   "metadata": {},
   "outputs": [],
   "source": [
    "#求出远海数据\n",
    "far_condition=np_city_dist>50\n",
    "far_dist=np_city_dist[far_condition]\n",
    "far_temp=np_city_temp[far_condition]"
   ]
  },
  {
   "cell_type": "code",
   "execution_count": 61,
   "metadata": {},
   "outputs": [
    {
     "data": {
      "text/plain": [
       "array([34.17820144])"
      ]
     },
     "execution_count": 61,
     "metadata": {},
     "output_type": "execute_result"
    }
   ],
   "source": [
    "#创建模型实例\n",
    "linner2=LinearRegression()\n",
    "#x训练模型\n",
    "linner2.fit(far_dist.reshape(-1,1),far_temp)\n",
    "#评分\n",
    "linner2.score(far_dist.reshape(-1,1),far_temp)\n",
    "#预测\n",
    "linner.predict(120)"
   ]
  },
  {
   "cell_type": "code",
   "execution_count": 74,
   "metadata": {},
   "outputs": [
    {
     "data": {
      "text/plain": [
       "<matplotlib.collections.PathCollection at 0x1d0e3a941d0>"
      ]
     },
     "execution_count": 74,
     "metadata": {},
     "output_type": "execute_result"
    },
    {
     "data": {
      "image/png": "[encoded data removed]",
      "text/plain": [
       "<Figure size 432x288 with 1 Axes>"
      ]
     },
     "metadata": {
      "needs_background": "light"
     },
     "output_type": "display_data"
    }
   ],
   "source": [
    "#绘制远海线性回归图像\n",
    "x2=np.linspace(50,370,num=100)\n",
    "y2=linner2.predict(x2.reshape(-1,1))\n",
    "\n",
    "\n",
    "plt.scatter(far_dist,far_temp)\n",
    "plt.scatter(x2,y2)\n",
    "\n",
    "\n"
   ]
  },
  {
   "cell_type": "markdown",
   "metadata": {},
   "source": [
    "- 近海远海绘制到一张图片"
   ]
  },
  {
   "cell_type": "code",
   "execution_count": 73,
   "metadata": {},
   "outputs": [
    {
     "data": {
      "image/png": "[encoded data removed]",
      "text/plain": [
       "<Figure size 432x288 with 1 Axes>"
      ]
     },
     "metadata": {
      "needs_background": "light"
     },
     "output_type": "display_data"
    }
   ],
   "source": [
    "fig=plt.figure()\n",
    "plt.scatter(near_dist,near_temp)\n",
    "plt.scatter(x1,y1)\n",
    "\n",
    "plt.scatter(far_dist,far_temp)\n",
    "plt.scatter(x2,y2)\n",
    "\n",
    "fig.savefig('距离-最高温度.png')"
   ]
  },
  {
   "cell_type": "code",
   "execution_count": null,
   "metadata": {},
   "outputs": [],
   "source": []
  }
 ],
 "metadata": {
  "kernelspec": {
   "display_name": "Python 3",
   "language": "python",
   "name": "python3"
  },
  "language_info": {
   "codemirror_mode": {
    "name": "ipython",
    "version": 3
   },
   "file_extension": ".py",
   "mimetype": "text/x-python",
   "name": "python",
   "nbconvert_exporter": "python",
   "pygments_lexer": "ipython3",
   "version": "3.7.0"
  }
 },
 "nbformat": 4,
 "nbformat_minor": 2
}
